{
 "cells": [
  {
   "cell_type": "code",
   "execution_count": 1,
   "id": "b6aae847-5490-49b3-be74-99fcc42ac34b",
   "metadata": {},
   "outputs": [],
   "source": [
    "import numpy as np\n",
    "import pandas as pd\n",
    "import matplotlib.pyplot as plt\n",
    "import joblib\n",
    "\n",
    "pd.options.display.float_format = '{:.2f}'.format\n"
   ]
  },
  {
   "cell_type": "code",
   "execution_count": 2,
   "id": "32c94bc9-6dcf-4444-9fc6-f70d4f9817f5",
   "metadata": {},
   "outputs": [
    {
     "name": "stdout",
     "output_type": "stream",
     "text": [
      "Models loaded successfully.\n"
     ]
    }
   ],
   "source": [
    "# Load the models from the saved files\n",
    "best_gbr_loaded = joblib.load('./model_pkl/final_model.pkl')\n",
    "best_xgbr_loaded = joblib.load('./model_pkl/xgbr.pkl')\n",
    "print(\"Models loaded successfully.\")\n"
   ]
  },
  {
   "cell_type": "code",
   "execution_count": 3,
   "id": "cca6c953-4844-4810-bfe7-9407f63fbdaf",
   "metadata": {},
   "outputs": [
    {
     "data": {
      "text/html": [
       "<div>\n",
       "<style scoped>\n",
       "    .dataframe tbody tr th:only-of-type {\n",
       "        vertical-align: middle;\n",
       "    }\n",
       "\n",
       "    .dataframe tbody tr th {\n",
       "        vertical-align: top;\n",
       "    }\n",
       "\n",
       "    .dataframe thead th {\n",
       "        text-align: right;\n",
       "    }\n",
       "</style>\n",
       "<table border=\"1\" class=\"dataframe\">\n",
       "  <thead>\n",
       "    <tr style=\"text-align: right;\">\n",
       "      <th></th>\n",
       "      <th>0</th>\n",
       "      <th>1</th>\n",
       "      <th>2</th>\n",
       "      <th>3</th>\n",
       "      <th>4</th>\n",
       "      <th>5</th>\n",
       "      <th>6</th>\n",
       "      <th>7</th>\n",
       "      <th>8</th>\n",
       "      <th>9</th>\n",
       "      <th>...</th>\n",
       "      <th>501</th>\n",
       "      <th>502</th>\n",
       "      <th>503</th>\n",
       "      <th>504</th>\n",
       "      <th>505</th>\n",
       "      <th>506</th>\n",
       "      <th>507</th>\n",
       "      <th>508</th>\n",
       "      <th>509</th>\n",
       "      <th>510</th>\n",
       "    </tr>\n",
       "  </thead>\n",
       "  <tbody>\n",
       "    <tr>\n",
       "      <th>0</th>\n",
       "      <td>0.44</td>\n",
       "      <td>0.10</td>\n",
       "      <td>0.03</td>\n",
       "      <td>-0.83</td>\n",
       "      <td>0.35</td>\n",
       "      <td>-0.59</td>\n",
       "      <td>-0.73</td>\n",
       "      <td>-0.27</td>\n",
       "      <td>-0.57</td>\n",
       "      <td>0.11</td>\n",
       "      <td>...</td>\n",
       "      <td>-0.06</td>\n",
       "      <td>-0.05</td>\n",
       "      <td>-0.30</td>\n",
       "      <td>-0.04</td>\n",
       "      <td>0.40</td>\n",
       "      <td>-0.04</td>\n",
       "      <td>-0.10</td>\n",
       "      <td>-0.12</td>\n",
       "      <td>0.47</td>\n",
       "      <td>-0.31</td>\n",
       "    </tr>\n",
       "    <tr>\n",
       "      <th>1</th>\n",
       "      <td>0.49</td>\n",
       "      <td>0.36</td>\n",
       "      <td>0.03</td>\n",
       "      <td>-0.10</td>\n",
       "      <td>0.35</td>\n",
       "      <td>0.04</td>\n",
       "      <td>-0.73</td>\n",
       "      <td>-0.27</td>\n",
       "      <td>-0.57</td>\n",
       "      <td>0.11</td>\n",
       "      <td>...</td>\n",
       "      <td>-0.06</td>\n",
       "      <td>-0.05</td>\n",
       "      <td>-0.30</td>\n",
       "      <td>-0.04</td>\n",
       "      <td>0.40</td>\n",
       "      <td>-0.04</td>\n",
       "      <td>-0.10</td>\n",
       "      <td>-0.12</td>\n",
       "      <td>0.47</td>\n",
       "      <td>-0.31</td>\n",
       "    </tr>\n",
       "    <tr>\n",
       "      <th>2</th>\n",
       "      <td>0.18</td>\n",
       "      <td>0.32</td>\n",
       "      <td>0.03</td>\n",
       "      <td>-0.83</td>\n",
       "      <td>-0.54</td>\n",
       "      <td>-0.59</td>\n",
       "      <td>-0.73</td>\n",
       "      <td>-0.27</td>\n",
       "      <td>0.58</td>\n",
       "      <td>0.11</td>\n",
       "      <td>...</td>\n",
       "      <td>-0.06</td>\n",
       "      <td>-0.05</td>\n",
       "      <td>-0.30</td>\n",
       "      <td>-0.04</td>\n",
       "      <td>0.40</td>\n",
       "      <td>-0.04</td>\n",
       "      <td>-0.10</td>\n",
       "      <td>-0.12</td>\n",
       "      <td>0.47</td>\n",
       "      <td>-0.31</td>\n",
       "    </tr>\n",
       "  </tbody>\n",
       "</table>\n",
       "<p>3 rows × 511 columns</p>\n",
       "</div>"
      ],
      "text/plain": [
       "     0    1    2     3     4     5     6     7     8    9  ...   501   502  \\\n",
       "0 0.44 0.10 0.03 -0.83  0.35 -0.59 -0.73 -0.27 -0.57 0.11  ... -0.06 -0.05   \n",
       "1 0.49 0.36 0.03 -0.10  0.35  0.04 -0.73 -0.27 -0.57 0.11  ... -0.06 -0.05   \n",
       "2 0.18 0.32 0.03 -0.83 -0.54 -0.59 -0.73 -0.27  0.58 0.11  ... -0.06 -0.05   \n",
       "\n",
       "    503   504  505   506   507   508  509   510  \n",
       "0 -0.30 -0.04 0.40 -0.04 -0.10 -0.12 0.47 -0.31  \n",
       "1 -0.30 -0.04 0.40 -0.04 -0.10 -0.12 0.47 -0.31  \n",
       "2 -0.30 -0.04 0.40 -0.04 -0.10 -0.12 0.47 -0.31  \n",
       "\n",
       "[3 rows x 511 columns]"
      ]
     },
     "execution_count": 3,
     "metadata": {},
     "output_type": "execute_result"
    }
   ],
   "source": [
    "df = pd.read_csv('./model_pkl/X_test.csv')\n",
    "df.head(3)\n"
   ]
  },
  {
   "cell_type": "code",
   "execution_count": 4,
   "id": "4030390d-1c70-44bc-927f-30bbc4b9e3cd",
   "metadata": {},
   "outputs": [],
   "source": [
    "# Make predictions using the loaded models\n",
    "gbr_preds = best_gbr_loaded.predict(np.array(df))\n",
    "xgbr_preds = best_xgbr_loaded.predict(np.array(df))\n"
   ]
  },
  {
   "cell_type": "code",
   "execution_count": 5,
   "id": "3f023591-d219-475a-9c4b-40f708d03858",
   "metadata": {},
   "outputs": [],
   "source": [
    "# Create a DataFrame to store the predictions\n",
    "pred_df = pd.DataFrame({\n",
    "    'GBR_Predictions': gbr_preds,\n",
    "    'XGBR_Predictions': xgbr_preds,\n",
    "})\n"
   ]
  },
  {
   "cell_type": "code",
   "execution_count": 6,
   "id": "7b367891-9b8f-44ac-a8e6-64aeb8e7670a",
   "metadata": {},
   "outputs": [
    {
     "data": {
      "text/html": [
       "<div>\n",
       "<style scoped>\n",
       "    .dataframe tbody tr th:only-of-type {\n",
       "        vertical-align: middle;\n",
       "    }\n",
       "\n",
       "    .dataframe tbody tr th {\n",
       "        vertical-align: top;\n",
       "    }\n",
       "\n",
       "    .dataframe thead th {\n",
       "        text-align: right;\n",
       "    }\n",
       "</style>\n",
       "<table border=\"1\" class=\"dataframe\">\n",
       "  <thead>\n",
       "    <tr style=\"text-align: right;\">\n",
       "      <th></th>\n",
       "      <th>GBR_Predictions</th>\n",
       "      <th>XGBR_Predictions</th>\n",
       "    </tr>\n",
       "  </thead>\n",
       "  <tbody>\n",
       "    <tr>\n",
       "      <th>0</th>\n",
       "      <td>124313.66</td>\n",
       "      <td>124221.82</td>\n",
       "    </tr>\n",
       "    <tr>\n",
       "      <th>1</th>\n",
       "      <td>163975.09</td>\n",
       "      <td>161520.20</td>\n",
       "    </tr>\n",
       "    <tr>\n",
       "      <th>2</th>\n",
       "      <td>178025.22</td>\n",
       "      <td>179417.09</td>\n",
       "    </tr>\n",
       "    <tr>\n",
       "      <th>3</th>\n",
       "      <td>181992.07</td>\n",
       "      <td>182915.73</td>\n",
       "    </tr>\n",
       "    <tr>\n",
       "      <th>4</th>\n",
       "      <td>199907.24</td>\n",
       "      <td>191713.25</td>\n",
       "    </tr>\n",
       "  </tbody>\n",
       "</table>\n",
       "</div>"
      ],
      "text/plain": [
       "   GBR_Predictions  XGBR_Predictions\n",
       "0        124313.66         124221.82\n",
       "1        163975.09         161520.20\n",
       "2        178025.22         179417.09\n",
       "3        181992.07         182915.73\n",
       "4        199907.24         191713.25"
      ]
     },
     "execution_count": 6,
     "metadata": {},
     "output_type": "execute_result"
    }
   ],
   "source": [
    "pred_df.head()\n"
   ]
  },
  {
   "cell_type": "code",
   "execution_count": 7,
   "id": "84452b1e-0543-4cf3-816e-e1b4e4519067",
   "metadata": {},
   "outputs": [],
   "source": [
    "pred_df.GBR_Predictions.to_csv('./model_pkl/gbr_y_hat.csv', index=False)\n",
    "pred_df.XGBR_Predictions.to_csv('./model_pkl/xgbr_y_hat.csv', index=False)\n"
   ]
  },
  {
   "cell_type": "code",
   "execution_count": null,
   "id": "6746112b-5a86-4019-8be5-6baec2cf4fc4",
   "metadata": {},
   "outputs": [],
   "source": []
  }
 ],
 "metadata": {
  "kernelspec": {
   "display_name": "Python 3 (ipykernel)",
   "language": "python",
   "name": "python3"
  },
  "language_info": {
   "codemirror_mode": {
    "name": "ipython",
    "version": 3
   },
   "file_extension": ".py",
   "mimetype": "text/x-python",
   "name": "python",
   "nbconvert_exporter": "python",
   "pygments_lexer": "ipython3",
   "version": "3.12.2"
  }
 },
 "nbformat": 4,
 "nbformat_minor": 5
}
