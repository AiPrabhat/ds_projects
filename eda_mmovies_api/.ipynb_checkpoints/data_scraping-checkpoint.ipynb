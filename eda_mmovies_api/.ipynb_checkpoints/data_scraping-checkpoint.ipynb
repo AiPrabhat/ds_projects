{
 "cells": [
  {
   "cell_type": "code",
   "execution_count": 1,
   "id": "93aafdcb-6bb3-40e3-92d3-74db18ee526d",
   "metadata": {},
   "outputs": [],
   "source": [
    "import numpy as np\n",
    "import pandas as pd\n",
    "import matplotlib.pyplot as plt\n",
    "import requests"
   ]
  },
  {
   "cell_type": "code",
   "execution_count": 2,
   "id": "68c0f6b7-21d6-45c0-83b4-b12534e5b7ab",
   "metadata": {},
   "outputs": [],
   "source": [
    "api_key = \"6900f6f294a129145c0406215cc913cf\"\n",
    "url = \"https://api.themoviedb.org/3\"\n",
    "\n",
    "popular_movies_endpoint = '/movie/popular'\n"
   ]
  },
  {
   "cell_type": "code",
   "execution_count": null,
   "id": "2fa959c3-599e-4791-864d-412ff99032fe",
   "metadata": {},
   "outputs": [],
   "source": [
    "def fetch_movie_ids(api_key, num_pages=10):\n",
    "    movie_ids = []\n",
    "    for page in range(1, num_pages + 1):\n",
    "        params = {\n",
    "            'api_key': api_key,\n",
    "            'page': page\n",
    "        }\n",
    "        response = requests.get(url + popular_movies_endpoint, params=params)\n",
    "        if response.status_code == 200:\n",
    "            data = response.json()\n",
    "            for movie in data['results']:\n",
    "                movie_ids.append(movie['id'])\n",
    "        else:\n",
    "            print(f'Error: {response.status_code}')\n",
    "            print(response.json())\n",
    "            break\n",
    "    return movie_ids\n"
   ]
  },
  {
   "cell_type": "code",
   "execution_count": null,
   "id": "a9f7728e-60a3-4424-b903-50e1357c1661",
   "metadata": {},
   "outputs": [],
   "source": [
    "def fetch_movies_by_ids(api_key, movie_ids):\n",
    "    movies = []\n",
    "    for movie_id in movie_ids:\n",
    "        response = requests.get(f'{url}/movie/{movie_id}', params={'api_key': api_key})\n",
    "        if response.status_code == 200:\n",
    "            movies.append(response.json())\n",
    "        else:\n",
    "            print(f'Error fetching movie ID {movie_id}: {response.status_code}')\n",
    "    return movies\n"
   ]
  },
  {
   "cell_type": "code",
   "execution_count": null,
   "id": "3040ff6f-6bc2-4dee-9468-9773b4d4d314",
   "metadata": {},
   "outputs": [],
   "source": [
    "def fetch_random_movies(api_key, N, random_state=None):\n",
    "    movie_ids = fetch_movie_ids(api_key)\n",
    "    if random_state is not None:\n",
    "        random.seed(random_state)\n",
    "    sampled_ids = random.sample(movie_ids, N)\n",
    "    return fetch_movies_by_ids(api_key, sampled_ids)\n"
   ]
  },
  {
   "cell_type": "code",
   "execution_count": null,
   "id": "ac115e6a-38d1-4cd3-a5a1-1f5027c43196",
   "metadata": {},
   "outputs": [],
   "source": [
    "movies = fetch_random_movies(api_key, N=100, random_state=42)\n"
   ]
  },
  {
   "cell_type": "code",
   "execution_count": null,
   "id": "d865aee6-14e9-4028-92a4-36b75848bbef",
   "metadata": {},
   "outputs": [],
   "source": [
    "movies"
   ]
  }
 ],
 "metadata": {
  "kernelspec": {
   "display_name": "Python 3 (ipykernel)",
   "language": "python",
   "name": "python3"
  },
  "language_info": {
   "codemirror_mode": {
    "name": "ipython",
    "version": 3
   },
   "file_extension": ".py",
   "mimetype": "text/x-python",
   "name": "python",
   "nbconvert_exporter": "python",
   "pygments_lexer": "ipython3",
   "version": "3.12.2"
  }
 },
 "nbformat": 4,
 "nbformat_minor": 5
}
