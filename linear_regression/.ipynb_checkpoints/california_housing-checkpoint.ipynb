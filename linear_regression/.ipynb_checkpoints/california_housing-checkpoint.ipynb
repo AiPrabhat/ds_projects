{
 "cells": [
  {
   "cell_type": "markdown",
   "id": "9eecda2f-f34f-4703-9b49-6039ea5fb764",
   "metadata": {},
   "source": [
    "### `import libraries`"
   ]
  },
  {
   "cell_type": "code",
   "execution_count": 1,
   "id": "1d332196-d293-4550-ae96-f1893ea1644e",
   "metadata": {},
   "outputs": [],
   "source": [
    "import numpy as np\n",
    "import pandas as pd\n",
    "import matplotlib.pyplot as plt\n",
    "import seaborn as sns\n",
    "import copy, math\n",
    "\n",
    "from sklearn.datasets import fetch_california_housing\n",
    "from sklearn.model_selection import train_test_split\n",
    "\n",
    "pd.set_option('display.max_columns', None,\n",
    "              'display.max_colwidth', 400)"
   ]
  },
  {
   "cell_type": "markdown",
   "id": "2c366d76-cedb-464f-ac3d-0e216a35eb3e",
   "metadata": {},
   "source": [
    "### `data`"
   ]
  },
  {
   "cell_type": "code",
   "execution_count": 8,
   "id": "17574830-11ee-4d04-9fee-17a01e4c0d6f",
   "metadata": {},
   "outputs": [],
   "source": [
    "california = fetch_california_housing()\n",
    "df = pd.DataFrame(data=california.data, columns=california.feature_names)\n",
    "df['target'] = california.target"
   ]
  },
  {
   "cell_type": "code",
   "execution_count": 9,
   "id": "28869597-28d2-4826-ac00-4780f694a507",
   "metadata": {},
   "outputs": [],
   "source": [
    "X = df.drop('target', axis=1)\n",
    "y = df['target']"
   ]
  },
  {
   "cell_type": "code",
   "execution_count": 10,
   "id": "945b18c5-32aa-48f2-a81d-6620bb722782",
   "metadata": {},
   "outputs": [],
   "source": [
    "X_train, X_test, y_train, y_test = train_test_split(X, y, test_size=0.2, random_state=9)"
   ]
  },
  {
   "cell_type": "code",
   "execution_count": 11,
   "id": "81441ba9-1de3-4878-9390-333e10bc49ee",
   "metadata": {},
   "outputs": [
    {
     "data": {
      "text/html": [
       "<div>\n",
       "<style scoped>\n",
       "    .dataframe tbody tr th:only-of-type {\n",
       "        vertical-align: middle;\n",
       "    }\n",
       "\n",
       "    .dataframe tbody tr th {\n",
       "        vertical-align: top;\n",
       "    }\n",
       "\n",
       "    .dataframe thead th {\n",
       "        text-align: right;\n",
       "    }\n",
       "</style>\n",
       "<table border=\"1\" class=\"dataframe\">\n",
       "  <thead>\n",
       "    <tr style=\"text-align: right;\">\n",
       "      <th></th>\n",
       "      <th>MedInc</th>\n",
       "      <th>HouseAge</th>\n",
       "      <th>AveRooms</th>\n",
       "      <th>AveBedrms</th>\n",
       "      <th>Population</th>\n",
       "      <th>AveOccup</th>\n",
       "      <th>Latitude</th>\n",
       "      <th>Longitude</th>\n",
       "    </tr>\n",
       "  </thead>\n",
       "  <tbody>\n",
       "    <tr>\n",
       "      <th>15404</th>\n",
       "      <td>4.0776</td>\n",
       "      <td>13.0</td>\n",
       "      <td>6.117264</td>\n",
       "      <td>1.055375</td>\n",
       "      <td>1767.0</td>\n",
       "      <td>2.877850</td>\n",
       "      <td>33.23</td>\n",
       "      <td>-117.24</td>\n",
       "    </tr>\n",
       "    <tr>\n",
       "      <th>16396</th>\n",
       "      <td>2.4342</td>\n",
       "      <td>22.0</td>\n",
       "      <td>5.086667</td>\n",
       "      <td>0.996667</td>\n",
       "      <td>790.0</td>\n",
       "      <td>2.633333</td>\n",
       "      <td>38.01</td>\n",
       "      <td>-121.24</td>\n",
       "    </tr>\n",
       "  </tbody>\n",
       "</table>\n",
       "</div>"
      ],
      "text/plain": [
       "       MedInc  HouseAge  AveRooms  AveBedrms  Population  AveOccup  Latitude  \\\n",
       "15404  4.0776      13.0  6.117264   1.055375      1767.0  2.877850     33.23   \n",
       "16396  2.4342      22.0  5.086667   0.996667       790.0  2.633333     38.01   \n",
       "\n",
       "       Longitude  \n",
       "15404    -117.24  \n",
       "16396    -121.24  "
      ]
     },
     "execution_count": 11,
     "metadata": {},
     "output_type": "execute_result"
    }
   ],
   "source": [
    "X_train.head(2)"
   ]
  },
  {
   "cell_type": "code",
   "execution_count": 12,
   "id": "ae2d4d51-2e00-4367-b8e1-be7deb1d673c",
   "metadata": {},
   "outputs": [],
   "source": [
    "X_norm, mu, sigma = zscore_normalize_features(X_train)"
   ]
  },
  {
   "cell_type": "code",
   "execution_count": 13,
   "id": "dd1dd1df-74d9-4dee-b103-201ed130f9a0",
   "metadata": {},
   "outputs": [
    {
     "data": {
      "text/html": [
       "<div>\n",
       "<style scoped>\n",
       "    .dataframe tbody tr th:only-of-type {\n",
       "        vertical-align: middle;\n",
       "    }\n",
       "\n",
       "    .dataframe tbody tr th {\n",
       "        vertical-align: top;\n",
       "    }\n",
       "\n",
       "    .dataframe thead th {\n",
       "        text-align: right;\n",
       "    }\n",
       "</style>\n",
       "<table border=\"1\" class=\"dataframe\">\n",
       "  <thead>\n",
       "    <tr style=\"text-align: right;\">\n",
       "      <th></th>\n",
       "      <th>MedInc</th>\n",
       "      <th>HouseAge</th>\n",
       "      <th>AveRooms</th>\n",
       "      <th>AveBedrms</th>\n",
       "      <th>Population</th>\n",
       "      <th>AveOccup</th>\n",
       "      <th>Latitude</th>\n",
       "      <th>Longitude</th>\n",
       "    </tr>\n",
       "  </thead>\n",
       "  <tbody>\n",
       "    <tr>\n",
       "      <th>15404</th>\n",
       "      <td>0.112557</td>\n",
       "      <td>-1.240851</td>\n",
       "      <td>0.297789</td>\n",
       "      <td>-0.098574</td>\n",
       "      <td>0.304909</td>\n",
       "      <td>-0.023229</td>\n",
       "      <td>-1.125446</td>\n",
       "      <td>1.164630</td>\n",
       "    </tr>\n",
       "    <tr>\n",
       "      <th>16396</th>\n",
       "      <td>-0.752272</td>\n",
       "      <td>-0.526990</td>\n",
       "      <td>-0.146225</td>\n",
       "      <td>-0.241855</td>\n",
       "      <td>-0.558413</td>\n",
       "      <td>-0.061307</td>\n",
       "      <td>1.107180</td>\n",
       "      <td>-0.829574</td>\n",
       "    </tr>\n",
       "  </tbody>\n",
       "</table>\n",
       "</div>"
      ],
      "text/plain": [
       "         MedInc  HouseAge  AveRooms  AveBedrms  Population  AveOccup  \\\n",
       "15404  0.112557 -1.240851  0.297789  -0.098574    0.304909 -0.023229   \n",
       "16396 -0.752272 -0.526990 -0.146225  -0.241855   -0.558413 -0.061307   \n",
       "\n",
       "       Latitude  Longitude  \n",
       "15404 -1.125446   1.164630  \n",
       "16396  1.107180  -0.829574  "
      ]
     },
     "execution_count": 13,
     "metadata": {},
     "output_type": "execute_result"
    }
   ],
   "source": [
    "X_norm.head(2)"
   ]
  },
  {
   "cell_type": "markdown",
   "id": "37104a6c-e254-43f8-a48b-7a2643336798",
   "metadata": {},
   "source": [
    "### `train model`"
   ]
  },
  {
   "cell_type": "code",
   "execution_count": null,
   "id": "42f690bc-4741-4f07-ad56-2d7bff35f908",
   "metadata": {},
   "outputs": [],
   "source": []
  }
 ],
 "metadata": {
  "kernelspec": {
   "display_name": "Python 3 (ipykernel)",
   "language": "python",
   "name": "python3"
  },
  "language_info": {
   "codemirror_mode": {
    "name": "ipython",
    "version": 3
   },
   "file_extension": ".py",
   "mimetype": "text/x-python",
   "name": "python",
   "nbconvert_exporter": "python",
   "pygments_lexer": "ipython3",
   "version": "3.12.2"
  }
 },
 "nbformat": 4,
 "nbformat_minor": 5
}
